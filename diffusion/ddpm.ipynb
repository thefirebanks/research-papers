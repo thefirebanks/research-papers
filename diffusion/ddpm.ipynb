{
 "cells": [
  {
   "cell_type": "markdown",
   "id": "786079a8-fbf9-4f5c-a603-4926916ae138",
   "metadata": {},
   "source": [
    "# Denoising Diffusion Probabilistic Models\n",
    "\n",
    "Original paper: https://arxiv.org/pdf/2006.11239.pdf\n",
    "\n",
    "Original tutorial: https://youtu.be/a4Yfz2FxXiY\n",
    "\n",
    "Original collab: https://colab.research.google.com/drive/1sjy9odlSSy0RBVgMTgP7s99NXsqglsUL?usp=sharing"
   ]
  },
  {
   "cell_type": "markdown",
   "id": "822406b4-f492-495b-a699-04b4a43063d1",
   "metadata": {},
   "source": [
    "Main idea: Implement a simple diffusion model for generating car images"
   ]
  },
  {
   "cell_type": "markdown",
   "id": "3df0b73d-0b08-40ea-b1c5-6971abe5d6aa",
   "metadata": {},
   "source": [
    "## 1. Getting the dataset"
   ]
  },
  {
   "cell_type": "code",
   "execution_count": 1,
   "id": "7088842a-238f-4474-8323-5768cf335e42",
   "metadata": {},
   "outputs": [],
   "source": [
    "import torch\n",
    "import torchvision\n",
    "import matplotlib.pyplot as plt"
   ]
  },
  {
   "cell_type": "code",
   "execution_count": 4,
   "id": "0a1c368b-37e1-4a11-8f46-40b79029eb83",
   "metadata": {},
   "outputs": [],
   "source": [
    "# Original URL not working in torchvision: https://pytorch.org/vision/stable/generated/torchvision.datasets.StanfordCars.html\n",
    "# data = torchvision.datasets.StanfordCars(root=\".\", download=True)\n",
    "\n",
    "# Getting the dataset from Kaggle instead: https://www.kaggle.com/datasets/jessicali9530/stanford-cars-dataset?resource=download\n",
    "# Quick fix from: https://github.com/pytorch/vision/issues/7545#issuecomment-1557598011\n",
    "\n",
    "class StanfordCars(torch.utils.data.Dataset):\n",
    "    def __init__(self, root_path, transform = None):\n",
    "        self.images = [os.path.join(root_path, file) for file in os.listdir(root_path)]\n",
    "        self.transform = transform\n",
    "\n",
    "    def __len__(self):\n",
    "        return len(self.images)\n",
    "\n",
    "    def __getitem__(self, index):\n",
    "        image_file = self.images[index]\n",
    "        image = Image.open(image_file).convert(\"RGB\")\n",
    "        if self.transform:\n",
    "            image = self.transform(image)\n",
    "        return image[None]\n",
    "    \n"
   ]
  },
  {
   "cell_type": "code",
   "execution_count": null,
   "id": "2fc1c2c0-1078-4c4c-b02c-70e3e38737f9",
   "metadata": {},
   "outputs": [],
   "source": []
  }
 ],
 "metadata": {
  "kernelspec": {
   "display_name": "Python 3 (ipykernel)",
   "language": "python",
   "name": "python3"
  },
  "language_info": {
   "codemirror_mode": {
    "name": "ipython",
    "version": 3
   },
   "file_extension": ".py",
   "mimetype": "text/x-python",
   "name": "python",
   "nbconvert_exporter": "python",
   "pygments_lexer": "ipython3",
   "version": "3.11.0"
  }
 },
 "nbformat": 4,
 "nbformat_minor": 5
}
